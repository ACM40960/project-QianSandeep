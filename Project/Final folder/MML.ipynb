{
 "cells": [
  {
   "cell_type": "code",
   "execution_count": 1,
   "metadata": {},
   "outputs": [
    {
     "name": "stderr",
     "output_type": "stream",
     "text": [
      "[*********************100%%**********************]  1 of 1 completed"
     ]
    },
    {
     "name": "stdout",
     "output_type": "stream",
     "text": [
      "                   Open         High          Low        Close    Adj Close  \\\n",
      "Date                                                                          \n",
      "2000-01-03  1469.250000  1478.000000  1438.359985  1455.219971  1455.219971   \n",
      "2000-01-04  1455.219971  1455.219971  1397.430054  1399.420044  1399.420044   \n",
      "2000-01-05  1399.420044  1413.270020  1377.680054  1402.109985  1402.109985   \n",
      "2000-01-06  1402.109985  1411.900024  1392.099976  1403.449951  1403.449951   \n",
      "2000-01-07  1403.449951  1441.469971  1400.729980  1441.469971  1441.469971   \n",
      "\n",
      "                Volume  Rsi  Ema_fast  Ema_medium  Ema_slow  Sma_30  Sma_200  \\\n",
      "Date                                                                           \n",
      "2000-01-03   931800000  NaN       NaN         NaN       NaN     NaN      NaN   \n",
      "2000-01-04  1009000000  NaN       NaN         NaN       NaN     NaN      NaN   \n",
      "2000-01-05  1085500000  NaN       NaN         NaN       NaN     NaN      NaN   \n",
      "2000-01-06  1092300000  NaN       NaN         NaN       NaN     NaN      NaN   \n",
      "2000-01-07  1225200000  NaN       NaN         NaN       NaN     NaN      NaN   \n",
      "\n",
      "            Bollinger_High  Bollinger_Low  ATR  MACD  \n",
      "Date                                                  \n",
      "2000-01-03             NaN            NaN  NaN   NaN  \n",
      "2000-01-04             NaN            NaN  NaN   NaN  \n",
      "2000-01-05             NaN            NaN  NaN   NaN  \n",
      "2000-01-06             NaN            NaN  NaN   NaN  \n",
      "2000-01-07             NaN            NaN  NaN   NaN  \n"
     ]
    },
    {
     "name": "stderr",
     "output_type": "stream",
     "text": [
      "\n"
     ]
    }
   ],
   "source": [
    "import yfinance as yf\n",
    "import pandas as pd\n",
    "import numpy as np\n",
    "import pandas_ta as ta\n",
    "import matplotlib.pyplot as plt\n",
    "from datetime import datetime\n",
    "from pandas_datareader import data as pdr\n",
    "\n",
    "end = datetime(2024, 8, 7, 11, 21, 24, 633194)\n",
    "start = '2000-01-01'\n",
    "\n",
    "# Fetch daily S&P 500 data\n",
    "sp500_data = yf.download('^GSPC', start=start, end=end)\n",
    "\n",
    "# Add technical indicators\n",
    "sp500_data['Rsi'] = ta.rsi(sp500_data['Adj Close'], length=14)  # RSI with 14 periods\n",
    "sp500_data['Ema_fast'] = ta.ema(sp500_data['Adj Close'], length=12)  # EMA with 12 periods\n",
    "sp500_data['Ema_medium'] = ta.ema(sp500_data['Adj Close'], length=26)  # EMA with 26 periods\n",
    "sp500_data['Ema_slow'] = ta.ema(sp500_data['Adj Close'], length=50)  # EMA with 50 periods\n",
    "sp500_data['Sma_30'] = ta.sma(sp500_data['Adj Close'], length=30)  # SMA with 30 periods\n",
    "sp500_data['Sma_200'] = ta.sma(sp500_data['Adj Close'], length=200)  # SMA with 200 periods\n",
    "\n",
    "sp500_data['Bollinger_High'] = ta.bbands(sp500_data['Adj Close'], length=20, std=2)['BBU_20_2.0']\n",
    "sp500_data['Bollinger_Low'] = ta.bbands(sp500_data['Adj Close'], length=20, std=2)['BBL_20_2.0']\n",
    "\n",
    "sp500_data['ATR'] = ta.atr(sp500_data['High'], sp500_data['Low'], sp500_data['Adj Close'], length=14)\n",
    "sp500_data['MACD'] = ta.macd(sp500_data['Adj Close'], fast=12, slow=26, signal=9)['MACD_12_26_9']\n",
    "\n",
    "# Check the merged data\n",
    "print(sp500_data.head())\n"
   ]
  },
  {
   "cell_type": "code",
   "execution_count": 2,
   "metadata": {},
   "outputs": [
    {
     "name": "stderr",
     "output_type": "stream",
     "text": [
      "[*********************100%%**********************]  1 of 1 completed\n",
      "[*********************100%%**********************]  1 of 1 completed\n",
      "[*********************100%%**********************]  1 of 1 completed\n",
      "[*********************100%%**********************]  1 of 1 completed\n",
      "[*********************100%%**********************]  1 of 1 completed\n",
      "[*********************100%%**********************]  1 of 1 completed\n",
      "[*********************100%%**********************]  1 of 1 completed\n"
     ]
    }
   ],
   "source": [
    "import pandas as pd\n",
    "import yfinance as yf\n",
    "from datetime import datetime\n",
    "\n",
    "# Set up End and Start times for data grab\n",
    "end = end\n",
    "start = '2000-01-01'\n",
    "\n",
    "# Fetch adjusted close prices for Apple, Amazon, and Microsoft\n",
    "tickers = ['AAPL', 'AMZN', 'MSFT', 'NVDA', 'GOOGL', 'TSLA', 'GOOG']\n",
    "data = {}\n",
    "\n",
    "for ticker in tickers:\n",
    "    stock_data = yf.download(ticker, start=start, end=end)\n",
    "    adj_close = stock_data['Adj Close']\n",
    "    data[ticker] = adj_close.rename(ticker)\n",
    "\n",
    "# Merge the data into a single DataFrame\n",
    "merged_data = pd.concat(data.values(), axis=1)\n"
   ]
  },
  {
   "cell_type": "code",
   "execution_count": 3,
   "metadata": {},
   "outputs": [
    {
     "name": "stdout",
     "output_type": "stream",
     "text": [
      "                AAPL    AMZN       MSFT      NVDA      GOOGL      TSLA  \\\n",
      "Date                                                                     \n",
      "2010-06-29  7.726043  5.4305  17.745981  0.240313  11.354836  1.592667   \n",
      "2010-06-30  7.586102  5.4630  17.517584  0.234122  11.122120  1.588667   \n",
      "2010-07-01  7.494115  5.5480  17.631784  0.238020  10.985640  1.464000   \n",
      "2010-07-02  7.447670  5.4570  17.715534  0.235039  10.912151  1.280000   \n",
      "2010-07-06  7.498640  5.5030  18.134243  0.232517  10.900153  1.074000   \n",
      "\n",
      "                 GOOG   AAPL DR   AMZN DR   MSFT DR   NVDA DR  GOOGL DR  \\\n",
      "Date                                                                      \n",
      "2010-06-29  11.301231 -0.018113  0.005985 -0.012870 -0.025763 -0.020495   \n",
      "2010-06-30  11.069613 -0.012126  0.015559  0.006519  0.016650 -0.012271   \n",
      "2010-07-01  10.933779 -0.006198 -0.016402  0.004750 -0.012524 -0.006689   \n",
      "2010-07-02  10.860637  0.006844  0.008430  0.023635 -0.010732 -0.001100   \n",
      "2010-07-06  10.848695  0.040381  0.030620  0.020151  0.048323  0.032403   \n",
      "\n",
      "             TSLA DR   GOOG DR  \n",
      "Date                            \n",
      "2010-06-29 -0.002511 -0.020495  \n",
      "2010-06-30 -0.078473 -0.012271  \n",
      "2010-07-01 -0.125683 -0.006690  \n",
      "2010-07-02 -0.160937 -0.001100  \n",
      "2010-07-06 -0.019243  0.032403  \n"
     ]
    }
   ],
   "source": [
    "merged_data.dropna(inplace=True)\n",
    "# Calculate daily returns for all columns and shift them by -1\n",
    "for column in merged_data.columns:\n",
    "    merged_data[f'{column} DR'] = merged_data[column].pct_change().shift(-1)\n",
    "\n",
    "# Dropping any rows with NaN values after shifting (optional)\n",
    "merged_data.dropna(inplace=True)\n",
    "\n",
    "# Display the first few rows of the modified DataFrame\n",
    "print(merged_data.head())\n"
   ]
  },
  {
   "cell_type": "code",
   "execution_count": 4,
   "metadata": {},
   "outputs": [
    {
     "name": "stdout",
     "output_type": "stream",
     "text": [
      "             AAPL DR   AMZN DR   MSFT DR   NVDA DR  GOOGL DR   TSLA DR  \\\n",
      "Date                                                                     \n",
      "2010-06-29 -0.018113  0.005985 -0.012870 -0.025763 -0.020495 -0.002511   \n",
      "2010-06-30 -0.012126  0.015559  0.006519  0.016650 -0.012271 -0.078473   \n",
      "2010-07-01 -0.006198 -0.016402  0.004750 -0.012524 -0.006689 -0.125683   \n",
      "2010-07-02  0.006844  0.008430  0.023635 -0.010732 -0.001100 -0.160937   \n",
      "2010-07-06  0.040381  0.030620  0.020151  0.048323  0.032403 -0.019243   \n",
      "\n",
      "             GOOG DR  \n",
      "Date                  \n",
      "2010-06-29 -0.020495  \n",
      "2010-06-30 -0.012271  \n",
      "2010-07-01 -0.006690  \n",
      "2010-07-02 -0.001100  \n",
      "2010-07-06  0.032403  \n"
     ]
    }
   ],
   "source": [
    "\n",
    "columns_to_drop = ['AAPL', 'AMZN', 'MSFT', 'NVDA', 'GOOGL', 'TSLA', 'GOOG']\n",
    "\n",
    "# Drop the specified columns\n",
    "merged_data.drop(columns=columns_to_drop, inplace=True)\n",
    "\n",
    "# Display the first few rows of the modified DataFrame\n",
    "print(merged_data.head())"
   ]
  },
  {
   "cell_type": "code",
   "execution_count": 5,
   "metadata": {},
   "outputs": [
    {
     "name": "stdout",
     "output_type": "stream",
     "text": [
      "(3550, 23)\n",
      "Index(['Open', 'High', 'Low', 'Close', 'Adj Close', 'Volume', 'Rsi',\n",
      "       'Ema_fast', 'Ema_medium', 'Ema_slow', 'Sma_30', 'Sma_200',\n",
      "       'Bollinger_High', 'Bollinger_Low', 'ATR', 'MACD', 'AAPL DR', 'AMZN DR',\n",
      "       'MSFT DR', 'NVDA DR', 'GOOGL DR', 'TSLA DR', 'GOOG DR'],\n",
      "      dtype='object')\n"
     ]
    }
   ],
   "source": [
    "\n",
    "#merge the data\n",
    "merged_data = pd.concat([sp500_data, merged_data], axis=1).dropna()\n",
    "#add daily return\n",
    "print(merged_data.shape)\n",
    "print(merged_data.columns)\n"
   ]
  },
  {
   "cell_type": "markdown",
   "metadata": {},
   "source": [
    "let's add some economic features to the dataset and see how PCA can help us to reduce the dimensionality of the data."
   ]
  },
  {
   "cell_type": "code",
   "execution_count": 6,
   "metadata": {},
   "outputs": [
    {
     "name": "stdout",
     "output_type": "stream",
     "text": [
      "Index(['Open', 'High', 'Low', 'Close', 'Adj Close', 'Volume', 'Rsi',\n",
      "       'Ema_fast', 'Ema_medium', 'Ema_slow', 'Sma_30', 'Sma_200',\n",
      "       'Bollinger_High', 'Bollinger_Low', 'ATR', 'MACD', 'AAPL DR', 'AMZN DR',\n",
      "       'MSFT DR', 'NVDA DR', 'GOOGL DR', 'TSLA DR', 'GOOG DR', 'Inflation',\n",
      "       'Unemployment', 'Interest_Rate', 'GDP'],\n",
      "      dtype='object')\n"
     ]
    }
   ],
   "source": [
    "# Fetch economic data\n",
    "gdp = pdr.get_data_fred('GDP', start=start, end=end) #quaterly\n",
    "inflation = pdr.get_data_fred('CPIAUCSL', start=start, end=end)  # CPI for inflation\n",
    "unemployment = pdr.get_data_fred('UNRATE', start=start, end=end)\n",
    "interest_rate = pdr.get_data_fred('FEDFUNDS', start=start, end=end)\n",
    "\n",
    "# Rename columns for clarity\n",
    "gdp.rename(columns={'GDP': 'GDP'}, inplace=True)\n",
    "inflation.rename(columns={'CPIAUCSL': 'Inflation'}, inplace=True)\n",
    "unemployment.rename(columns={'UNRATE': 'Unemployment'}, inplace=True)\n",
    "interest_rate.rename(columns={'FEDFUNDS': 'Interest_Rate'}, inplace=True)\n",
    "GDP = gdp.resample('D').ffill()\n",
    "Inflation = inflation.resample('D').ffill()\n",
    "Unemployment = unemployment.resample('D').ffill()\n",
    "Interest_rate = interest_rate.resample('D').ffill()\n",
    "\n",
    "merged_data = merged_data.join([Inflation, Unemployment, Interest_rate, GDP], how='left')\n",
    "\n",
    "print(merged_data.columns)"
   ]
  },
  {
   "cell_type": "code",
   "execution_count": 7,
   "metadata": {},
   "outputs": [
    {
     "name": "stdout",
     "output_type": "stream",
     "text": [
      "          Open         High          Low        Close    Adj Close        Rsi  \\\n",
      "0  1071.099976  1071.099976  1035.180054  1041.239990  1041.239990  33.885747   \n",
      "1  1040.560059  1048.079956  1028.329956  1030.709961  1030.709961  31.856079   \n",
      "2  1031.099976  1033.579956  1010.909973  1027.369995  1027.369995  31.217372   \n",
      "3  1027.650024  1032.949951  1015.929993  1022.580017  1022.580017  30.279730   \n",
      "4  1028.089966  1042.500000  1018.349976  1028.060059  1028.060059  32.767748   \n",
      "\n",
      "      Ema_fast   Ema_medium     Ema_slow       Sma_30  ...   MSFT DR  \\\n",
      "0  1082.163101  1093.680490  1109.788007  1086.881995  ... -0.012870   \n",
      "1  1074.247233  1089.016007  1106.686908  1083.878992  ...  0.006519   \n",
      "2  1067.035350  1084.449635  1103.576440  1080.956323  ...  0.004750   \n",
      "3  1060.196068  1079.866701  1100.400110  1079.322658  ...  0.023635   \n",
      "4  1055.252067  1076.029172  1097.563245  1077.334996  ...  0.020151   \n",
      "\n",
      "    NVDA DR  GOOGL DR   TSLA DR   GOOG DR  Inflation  Unemployment  \\\n",
      "0 -0.025763 -0.020495 -0.002511 -0.020495    217.199           9.4   \n",
      "1  0.016650 -0.012271 -0.078473 -0.012271    217.199           9.4   \n",
      "2 -0.012524 -0.006689 -0.125683 -0.006690    217.605           9.4   \n",
      "3 -0.010732 -0.001100 -0.160937 -0.001100    217.605           9.4   \n",
      "4  0.048323  0.032403 -0.019243  0.032403    217.605           9.4   \n",
      "\n",
      "   Interest_Rate        GDP    Target  \n",
      "0           0.18  14980.193 -0.010113  \n",
      "1           0.18  14980.193 -0.003240  \n",
      "2           0.18  15141.607 -0.004662  \n",
      "3           0.18  15141.607  0.005359  \n",
      "4           0.18  15141.607  0.031331  \n",
      "\n",
      "[5 rows x 27 columns]\n"
     ]
    }
   ],
   "source": [
    "#get the daily return\n",
    "merged_data['Target'] = merged_data['Adj Close'].pct_change()\n",
    "merged_data['Target'] = merged_data['Target'].shift(-1)\n",
    "\n",
    "\n",
    "#merged_data['TargetNextClose'] = merged_data['Adj Close'].shift(-1) \n",
    "\n",
    "merged_data.dropna(inplace=True)\n",
    "merged_data.reset_index(inplace = True)\n",
    "Date = merged_data['Date']\n",
    "merged_data.drop([ 'Date', 'Volume'], axis=1, inplace=True)\n",
    "print(merged_data.head())"
   ]
  },
  {
   "cell_type": "code",
   "execution_count": 8,
   "metadata": {},
   "outputs": [
    {
     "data": {
      "text/plain": [
       "<Axes: >"
      ]
     },
     "execution_count": 8,
     "metadata": {},
     "output_type": "execute_result"
    },
    {
     "data": {
      "image/png": "[encoded data removed]",
      "text/plain": [
       "<Figure size 1000x800 with 2 Axes>"
      ]
     },
     "metadata": {},
     "output_type": "display_data"
    }
   ],
   "source": [
    "#sekect some columns\n",
    "dd = merged_data[['Inflation', 'Unemployment', 'Interest_Rate', 'GDP', 'Target', 'Adj Close']]\n",
    "\n",
    "\n",
    "import seaborn as sns\n",
    "plt.figure(figsize=(10, 8))\n",
    "sns.heatmap(dd.corr(), annot=True, cmap='coolwarm')"
   ]
  },
  {
   "cell_type": "markdown",
   "metadata": {},
   "source": [
    "not include the econocy indicators "
   ]
  },
  {
   "cell_type": "code",
   "execution_count": 9,
   "metadata": {},
   "outputs": [
    {
     "name": "stdout",
     "output_type": "stream",
     "text": [
      "Index(['Open', 'High', 'Low', 'Close', 'Adj Close', 'Rsi', 'Ema_fast',\n",
      "       'Ema_medium', 'Ema_slow', 'Sma_30', 'Sma_200', 'Bollinger_High',\n",
      "       'Bollinger_Low', 'ATR', 'MACD', 'AAPL DR', 'AMZN DR', 'MSFT DR',\n",
      "       'NVDA DR', 'GOOGL DR', 'TSLA DR', 'GOOG DR', 'Target'],\n",
      "      dtype='object')\n"
     ]
    }
   ],
   "source": [
    "#drop 'Inflation', 'Unemployment', 'Interest_Rate', 'GDP',\n",
    "merged_data.drop(['Inflation', 'Unemployment', 'Interest_Rate', 'GDP'], axis=1, inplace=True)\n",
    "print(merged_data.columns)"
   ]
  },
  {
   "cell_type": "code",
   "execution_count": 10,
   "metadata": {},
   "outputs": [
    {
     "name": "stdout",
     "output_type": "stream",
     "text": [
      "Index(['Open', 'High', 'Low', 'Close', 'Adj Close', 'Rsi', 'Ema_fast',\n",
      "       'Ema_medium', 'Ema_slow', 'Sma_30', 'Sma_200', 'Bollinger_High',\n",
      "       'Bollinger_Low', 'ATR', 'MACD', 'AAPL DR', 'AMZN DR', 'MSFT DR',\n",
      "       'NVDA DR', 'GOOGL DR', 'TSLA DR', 'GOOG DR'],\n",
      "      dtype='object')\n"
     ]
    }
   ],
   "source": [
    "\n",
    "\n",
    "features= merged_data.drop(['Target'], axis=1)\n",
    "print(features.columns)\n",
    "features = features.columns\n",
    "print(features)"
   ]
  },
  {
   "cell_type": "code",
   "execution_count": null,
   "metadata": {},
   "outputs": [],
   "source": []
  },
  {
   "cell_type": "markdown",
   "metadata": {},
   "source": [
    " need to scale the features in your data before applying PCA"
   ]
  },
  {
   "cell_type": "code",
   "execution_count": 12,
   "metadata": {},
   "outputs": [],
   "source": [
    "from sklearn.preprocessing import StandardScaler\n",
    "# Separating out the features\n",
    "x = merged_data.loc[:, features].values\n",
    "# Separating out the target\n",
    "y = merged_data.loc[:,['Target']].values\n",
    "# Standardizing the features\n",
    "x = StandardScaler().fit_transform(x)"
   ]
  },
  {
   "cell_type": "code",
   "execution_count": 13,
   "metadata": {},
   "outputs": [
    {
     "data": {
      "text/html": [
       "<div>\n",
       "<style scoped>\n",
       "    .dataframe tbody tr th:only-of-type {\n",
       "        vertical-align: middle;\n",
       "    }\n",
       "\n",
       "    .dataframe tbody tr th {\n",
       "        vertical-align: top;\n",
       "    }\n",
       "\n",
       "    .dataframe thead th {\n",
       "        text-align: right;\n",
       "    }\n",
       "</style>\n",
       "<table border=\"1\" class=\"dataframe\">\n",
       "  <thead>\n",
       "    <tr style=\"text-align: right;\">\n",
       "      <th></th>\n",
       "      <th>Open</th>\n",
       "      <th>High</th>\n",
       "      <th>Low</th>\n",
       "      <th>Close</th>\n",
       "      <th>Adj Close</th>\n",
       "      <th>Rsi</th>\n",
       "      <th>Ema_fast</th>\n",
       "      <th>Ema_medium</th>\n",
       "      <th>Ema_slow</th>\n",
       "      <th>Sma_30</th>\n",
       "      <th>...</th>\n",
       "      <th>Bollinger_Low</th>\n",
       "      <th>ATR</th>\n",
       "      <th>MACD</th>\n",
       "      <th>AAPL DR</th>\n",
       "      <th>AMZN DR</th>\n",
       "      <th>MSFT DR</th>\n",
       "      <th>NVDA DR</th>\n",
       "      <th>GOOGL DR</th>\n",
       "      <th>TSLA DR</th>\n",
       "      <th>GOOG DR</th>\n",
       "    </tr>\n",
       "  </thead>\n",
       "  <tbody>\n",
       "    <tr>\n",
       "      <th>0</th>\n",
       "      <td>-1.423847</td>\n",
       "      <td>-1.428682</td>\n",
       "      <td>-1.451411</td>\n",
       "      <td>-1.451415</td>\n",
       "      <td>-1.451415</td>\n",
       "      <td>-1.937380</td>\n",
       "      <td>-1.413552</td>\n",
       "      <td>-1.401847</td>\n",
       "      <td>-1.384089</td>\n",
       "      <td>-1.406883</td>\n",
       "      <td>...</td>\n",
       "      <td>-1.424586</td>\n",
       "      <td>-0.455530</td>\n",
       "      <td>-0.638682</td>\n",
       "      <td>-1.088174</td>\n",
       "      <td>0.230145</td>\n",
       "      <td>-0.853761</td>\n",
       "      <td>-0.983836</td>\n",
       "      <td>-1.245124</td>\n",
       "      <td>-0.125649</td>\n",
       "      <td>-1.243657</td>\n",
       "    </tr>\n",
       "    <tr>\n",
       "      <th>1</th>\n",
       "      <td>-1.451776</td>\n",
       "      <td>-1.449615</td>\n",
       "      <td>-1.457712</td>\n",
       "      <td>-1.461043</td>\n",
       "      <td>-1.461043</td>\n",
       "      <td>-2.118367</td>\n",
       "      <td>-1.420818</td>\n",
       "      <td>-1.406148</td>\n",
       "      <td>-1.386967</td>\n",
       "      <td>-1.409654</td>\n",
       "      <td>...</td>\n",
       "      <td>-1.433214</td>\n",
       "      <td>-0.462328</td>\n",
       "      <td>-0.744563</td>\n",
       "      <td>-0.748105</td>\n",
       "      <td>0.693188</td>\n",
       "      <td>0.335679</td>\n",
       "      <td>0.513332</td>\n",
       "      <td>-0.766546</td>\n",
       "      <td>-2.250614</td>\n",
       "      <td>-0.765729</td>\n",
       "    </tr>\n",
       "    <tr>\n",
       "      <th>2</th>\n",
       "      <td>-1.460428</td>\n",
       "      <td>-1.462801</td>\n",
       "      <td>-1.473737</td>\n",
       "      <td>-1.464097</td>\n",
       "      <td>-1.464097</td>\n",
       "      <td>-2.175321</td>\n",
       "      <td>-1.427438</td>\n",
       "      <td>-1.410359</td>\n",
       "      <td>-1.389855</td>\n",
       "      <td>-1.412351</td>\n",
       "      <td>...</td>\n",
       "      <td>-1.441156</td>\n",
       "      <td>-0.459418</td>\n",
       "      <td>-0.830714</td>\n",
       "      <td>-0.411405</td>\n",
       "      <td>-0.852533</td>\n",
       "      <td>0.227145</td>\n",
       "      <td>-0.516501</td>\n",
       "      <td>-0.441732</td>\n",
       "      <td>-3.571291</td>\n",
       "      <td>-0.441372</td>\n",
       "    </tr>\n",
       "    <tr>\n",
       "      <th>3</th>\n",
       "      <td>-1.463583</td>\n",
       "      <td>-1.463374</td>\n",
       "      <td>-1.469119</td>\n",
       "      <td>-1.468476</td>\n",
       "      <td>-1.468476</td>\n",
       "      <td>-2.258931</td>\n",
       "      <td>-1.433716</td>\n",
       "      <td>-1.414584</td>\n",
       "      <td>-1.392804</td>\n",
       "      <td>-1.413858</td>\n",
       "      <td>...</td>\n",
       "      <td>-1.447945</td>\n",
       "      <td>-0.474561</td>\n",
       "      <td>-0.904192</td>\n",
       "      <td>0.329312</td>\n",
       "      <td>0.348383</td>\n",
       "      <td>1.385644</td>\n",
       "      <td>-0.453228</td>\n",
       "      <td>-0.116432</td>\n",
       "      <td>-4.557509</td>\n",
       "      <td>-0.116516</td>\n",
       "    </tr>\n",
       "    <tr>\n",
       "      <th>4</th>\n",
       "      <td>-1.463181</td>\n",
       "      <td>-1.454689</td>\n",
       "      <td>-1.466893</td>\n",
       "      <td>-1.463466</td>\n",
       "      <td>-1.463466</td>\n",
       "      <td>-2.037072</td>\n",
       "      <td>-1.438254</td>\n",
       "      <td>-1.418123</td>\n",
       "      <td>-1.395437</td>\n",
       "      <td>-1.415692</td>\n",
       "      <td>...</td>\n",
       "      <td>-1.451580</td>\n",
       "      <td>-0.466103</td>\n",
       "      <td>-0.940224</td>\n",
       "      <td>2.234163</td>\n",
       "      <td>1.421542</td>\n",
       "      <td>1.171932</td>\n",
       "      <td>1.631346</td>\n",
       "      <td>1.833205</td>\n",
       "      <td>-0.593701</td>\n",
       "      <td>1.830452</td>\n",
       "    </tr>\n",
       "  </tbody>\n",
       "</table>\n",
       "<p>5 rows × 22 columns</p>\n",
       "</div>"
      ],
      "text/plain": [
       "       Open      High       Low     Close  Adj Close       Rsi  Ema_fast  \\\n",
       "0 -1.423847 -1.428682 -1.451411 -1.451415  -1.451415 -1.937380 -1.413552   \n",
       "1 -1.451776 -1.449615 -1.457712 -1.461043  -1.461043 -2.118367 -1.420818   \n",
       "2 -1.460428 -1.462801 -1.473737 -1.464097  -1.464097 -2.175321 -1.427438   \n",
       "3 -1.463583 -1.463374 -1.469119 -1.468476  -1.468476 -2.258931 -1.433716   \n",
       "4 -1.463181 -1.454689 -1.466893 -1.463466  -1.463466 -2.037072 -1.438254   \n",
       "\n",
       "   Ema_medium  Ema_slow    Sma_30  ...  Bollinger_Low       ATR      MACD  \\\n",
       "0   -1.401847 -1.384089 -1.406883  ...      -1.424586 -0.455530 -0.638682   \n",
       "1   -1.406148 -1.386967 -1.409654  ...      -1.433214 -0.462328 -0.744563   \n",
       "2   -1.410359 -1.389855 -1.412351  ...      -1.441156 -0.459418 -0.830714   \n",
       "3   -1.414584 -1.392804 -1.413858  ...      -1.447945 -0.474561 -0.904192   \n",
       "4   -1.418123 -1.395437 -1.415692  ...      -1.451580 -0.466103 -0.940224   \n",
       "\n",
       "    AAPL DR   AMZN DR   MSFT DR   NVDA DR  GOOGL DR   TSLA DR   GOOG DR  \n",
       "0 -1.088174  0.230145 -0.853761 -0.983836 -1.245124 -0.125649 -1.243657  \n",
       "1 -0.748105  0.693188  0.335679  0.513332 -0.766546 -2.250614 -0.765729  \n",
       "2 -0.411405 -0.852533  0.227145 -0.516501 -0.441732 -3.571291 -0.441372  \n",
       "3  0.329312  0.348383  1.385644 -0.453228 -0.116432 -4.557509 -0.116516  \n",
       "4  2.234163  1.421542  1.171932  1.631346  1.833205 -0.593701  1.830452  \n",
       "\n",
       "[5 rows x 22 columns]"
      ]
     },
     "execution_count": 13,
     "metadata": {},
     "output_type": "execute_result"
    }
   ],
   "source": [
    "pd.DataFrame(data = x, columns = features).head()"
   ]
  },
  {
   "cell_type": "code",
   "execution_count": 14,
   "metadata": {},
   "outputs": [
    {
     "data": {
      "text/plain": [
       "array([0.56573918, 0.18984479, 0.0862934 , 0.03815999, 0.02822565,\n",
       "       0.02291808, 0.02236202, 0.01921717, 0.01645796, 0.00991596])"
      ]
     },
     "execution_count": 14,
     "metadata": {},
     "output_type": "execute_result"
    }
   ],
   "source": [
    "from sklearn.decomposition import PCA\n",
    "import matplotlib.pyplot as plt\n",
    "\n",
    "# Apply PCA with enough components to plot\n",
    "pca = PCA(n_components=10)  # Adjust this number to the total number of components you want to analyze\n",
    "principalComponents = pca.fit_transform(x)\n",
    "pca.explained_variance_ratio_"
   ]
  },
  {
   "cell_type": "code",
   "execution_count": 15,
   "metadata": {},
   "outputs": [
    {
     "data": {
      "image/png": "[encoded data removed]",
      "text/plain": [
       "<Figure size 640x480 with 1 Axes>"
      ]
     },
     "metadata": {},
     "output_type": "display_data"
    }
   ],
   "source": [
    "# Explained variance ratio\n",
    "importance = pca.explained_variance_ratio_\n",
    "\n",
    "# Scree plot\n",
    "plt.scatter(range(1, len(importance) + 1), importance)\n",
    "plt.plot(range(1, len(importance) + 1), importance)\n",
    "plt.title('Scree Plot')\n",
    "plt.xlabel('Factors')  # You may change this to 'Principal Components' if more appropriate\n",
    "plt.ylabel('Eigenvalue')  # This could be 'Explained Variance Ratio' depending on context\n",
    "plt.xticks(range(1, len(importance) + 1))\n",
    "plt.grid(True)\n",
    "plt.show()"
   ]
  },
  {
   "cell_type": "code",
   "execution_count": 16,
   "metadata": {},
   "outputs": [
    {
     "name": "stdout",
     "output_type": "stream",
     "text": [
      "0.8418773680179766\n"
     ]
    }
   ],
   "source": [
    "pca = PCA(n_components=3)  # Adjust this number to the total number of components you want to analyze\n",
    "principalComponents = pca.fit_transform(x)\n",
    "print(sum(pca.explained_variance_ratio_))"
   ]
  },
  {
   "cell_type": "markdown",
   "metadata": {},
   "source": [
    "by look at the ratio and the plot, 3 principal components can explain 84% of the variance in the data."
   ]
  },
  {
   "cell_type": "code",
   "execution_count": 31,
   "metadata": {},
   "outputs": [
    {
     "data": {
      "text/html": [
       "<div>\n",
       "<style scoped>\n",
       "    .dataframe tbody tr th:only-of-type {\n",
       "        vertical-align: middle;\n",
       "    }\n",
       "\n",
       "    .dataframe tbody tr th {\n",
       "        vertical-align: top;\n",
       "    }\n",
       "\n",
       "    .dataframe thead th {\n",
       "        text-align: right;\n",
       "    }\n",
       "</style>\n",
       "<table border=\"1\" class=\"dataframe\">\n",
       "  <thead>\n",
       "    <tr style=\"text-align: right;\">\n",
       "      <th></th>\n",
       "      <th>PC1</th>\n",
       "      <th>PC2</th>\n",
       "      <th>PC3</th>\n",
       "      <th>Target</th>\n",
       "    </tr>\n",
       "  </thead>\n",
       "  <tbody>\n",
       "    <tr>\n",
       "      <th>0</th>\n",
       "      <td>-4.916859</td>\n",
       "      <td>-2.069415</td>\n",
       "      <td>-1.807647</td>\n",
       "      <td>-0.010113</td>\n",
       "    </tr>\n",
       "    <tr>\n",
       "      <th>1</th>\n",
       "      <td>-4.945940</td>\n",
       "      <td>-0.891983</td>\n",
       "      <td>-2.022799</td>\n",
       "      <td>-0.003240</td>\n",
       "    </tr>\n",
       "    <tr>\n",
       "      <th>2</th>\n",
       "      <td>-4.958286</td>\n",
       "      <td>-1.799628</td>\n",
       "      <td>-2.172564</td>\n",
       "      <td>-0.004662</td>\n",
       "    </tr>\n",
       "    <tr>\n",
       "      <th>3</th>\n",
       "      <td>-4.983748</td>\n",
       "      <td>-0.562200</td>\n",
       "      <td>-2.267310</td>\n",
       "      <td>0.005359</td>\n",
       "    </tr>\n",
       "    <tr>\n",
       "      <th>4</th>\n",
       "      <td>-5.019517</td>\n",
       "      <td>3.879845</td>\n",
       "      <td>-1.825314</td>\n",
       "      <td>0.031331</td>\n",
       "    </tr>\n",
       "  </tbody>\n",
       "</table>\n",
       "</div>"
      ],
      "text/plain": [
       "        PC1       PC2       PC3    Target\n",
       "0 -4.916859 -2.069415 -1.807647 -0.010113\n",
       "1 -4.945940 -0.891983 -2.022799 -0.003240\n",
       "2 -4.958286 -1.799628 -2.172564 -0.004662\n",
       "3 -4.983748 -0.562200 -2.267310  0.005359\n",
       "4 -5.019517  3.879845 -1.825314  0.031331"
      ]
     },
     "execution_count": 31,
     "metadata": {},
     "output_type": "execute_result"
    }
   ],
   "source": [
    "pca = PCA(n_components=3)\n",
    "principalComponents = pca.fit_transform(x)\n",
    "\n",
    "principalDf = pd.DataFrame(data=principalComponents, columns=['PC1', 'PC2', 'PC3'])\n",
    "finalDf = pd.concat([principalDf, merged_data[['Target']]], axis = 1)\n",
    "finalDf.head(5)\n",
    "principalDf = pd.DataFrame(data=principalComponents, columns=['PC1', 'PC2', 'PC3'])\n",
    "finalDf = pd.concat([principalDf, merged_data[['Target']]], axis = 1)\n",
    "finalDf.head(5)"
   ]
  },
  {
   "cell_type": "markdown",
   "metadata": {},
   "source": [
    "we can see..."
   ]
  },
  {
   "cell_type": "code",
   "execution_count": 32,
   "metadata": {},
   "outputs": [
    {
     "name": "stdout",
     "output_type": "stream",
     "text": [
      "        PC1       PC2       PC3    Target\n",
      "0 -4.916859 -2.069415 -1.807647 -0.010113\n",
      "1 -4.945940 -0.891983 -2.022799 -0.003240\n",
      "2 -4.958286 -1.799628 -2.172564 -0.004662\n",
      "3 -4.983748 -0.562200 -2.267310  0.005359\n",
      "4 -5.019517  3.879845 -1.825314  0.031331\n",
      "(3462, 4)\n"
     ]
    }
   ],
   "source": [
    "print(finalDf.head(5))\n",
    "print(finalDf.shape)"
   ]
  },
  {
   "cell_type": "code",
   "execution_count": 33,
   "metadata": {},
   "outputs": [
    {
     "name": "stdout",
     "output_type": "stream",
     "text": [
      "Index(['PC1', 'PC2', 'PC3'], dtype='object')\n"
     ]
    }
   ],
   "source": [
    "features= finalDf.drop(['Target'], axis=1)\n",
    "features = features.columns\n",
    "print(features)"
   ]
  },
  {
   "cell_type": "markdown",
   "metadata": {},
   "source": [
    "使用普通的随机森林模型进行单步预测是一种常见的方法。随机森林是一个强大的机器学习算法，它能够处理非线性关系，并对于各种类型的数据都具有良好的预测性能。"
   ]
  },
  {
   "cell_type": "code",
   "execution_count": 44,
   "metadata": {},
   "outputs": [
    {
     "name": "stdout",
     "output_type": "stream",
     "text": [
      "Mean Squared Error: 1.7075616436461118\n",
      "Root Mean Squared Error: 1.3067370216099763\n",
      "R-squared: 0.5412898123386839\n"
     ]
    }
   ],
   "source": [
    "import numpy as np\n",
    "from sklearn.model_selection import train_test_split\n",
    "from sklearn.ensemble import RandomForestRegressor\n",
    "from sklearn.metrics import mean_squared_error, r2_score\n",
    "\n",
    "N = 30 # using the past 30 days' data\n",
    "features = finalDf[['PC1', 'PC2', 'PC3']].rolling(window=N).mean().shift(1).dropna()\n",
    "target = finalDf[['PC1', 'PC2', 'PC3']].shift(-N).dropna()\n",
    "\n",
    "# Only keep rows that exist in both features and target\n",
    "features, target = features.align(target, join='inner')\n",
    "features = features.dropna()\n",
    "target = target.dropna()\n",
    "\n",
    "X = features.values\n",
    "y = target.values\n",
    "\n",
    "X_train, X_test, y_train, y_test = train_test_split(X, y, test_size=0.2, random_state=42)\n",
    "\n",
    "rf = RandomForestRegressor(n_estimators=100, random_state=42)\n",
    "rf.fit(X_train, y_train)\n",
    "y_pred = rf.predict(X_test)\n",
    "\n",
    "mse = mean_squared_error(y_test, y_pred)\n",
    "rmse = np.sqrt(mse)\n",
    "r_squared = r2_score(y_test, y_pred)\n",
    "\n",
    "print(\"Mean Squared Error:\", mse)\n",
    "print(\"Root Mean Squared Error:\", rmse)\n",
    "print(\"R-squared:\", r_squared)\n"
   ]
  },
  {
   "cell_type": "markdown",
   "metadata": {},
   "source": [
    "Test Loss: 0.0008415352203883231, Test RMSE: 0.029009226709604263, Test MAE: 0.02265852317214012"
   ]
  },
  {
   "cell_type": "markdown",
   "metadata": {},
   "source": [
    "Generalization Gap: There is still a generalization gap, but it’s more controlled now. This indicates that the model is learning, but the complexity might still be slightly high, or the data might be more challenging to generalize well.\n",
    "Stabilization: Both metrics stabilize, which is a good sign that the model is not overfitting excessively."
   ]
  }
 ],
 "metadata": {
  "kernelspec": {
   "display_name": "r-reticulate",
   "language": "python",
   "name": "python3"
  },
  "language_info": {
   "codemirror_mode": {
    "name": "ipython",
    "version": 3
   },
   "file_extension": ".py",
   "mimetype": "text/x-python",
   "name": "python",
   "nbconvert_exporter": "python",
   "pygments_lexer": "ipython3",
   "version": "3.9.18"
  }
 },
 "nbformat": 4,
 "nbformat_minor": 2
}
